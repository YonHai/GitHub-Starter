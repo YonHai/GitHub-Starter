{
 "cells": [
  {
   "cell_type": "code",
   "execution_count": 1,
   "id": "30e5b4e3-2ffb-42b8-a222-5f7ad9dcb154",
   "metadata": {},
   "outputs": [
    {
     "name": "stdout",
     "output_type": "stream",
     "text": [
      " no matter what you say\n"
     ]
    }
   ],
   "source": [
    "print(\" no matter what you say\") "
   ]
  },
  {
   "cell_type": "code",
   "execution_count": 2,
   "id": "41e25799-9872-4d12-9b0f-939e5d38ae0d",
   "metadata": {},
   "outputs": [
    {
     "name": "stdout",
     "output_type": "stream",
     "text": [
      "what if it is stupid\n"
     ]
    }
   ],
   "source": [
    "print(\"what if it is stupid\")"
   ]
  },
  {
   "cell_type": "code",
   "execution_count": null,
   "id": "1d83600d-4c4f-4564-977d-90580678ffb2",
   "metadata": {},
   "outputs": [],
   "source": []
  }
 ],
 "metadata": {
  "kernelspec": {
   "display_name": "Python 3 (ipykernel)",
   "language": "python",
   "name": "python3"
  },
  "language_info": {
   "codemirror_mode": {
    "name": "ipython",
    "version": 3
   },
   "file_extension": ".py",
   "mimetype": "text/x-python",
   "name": "python",
   "nbconvert_exporter": "python",
   "pygments_lexer": "ipython3",
   "version": "3.9.12"
  }
 },
 "nbformat": 4,
 "nbformat_minor": 5
}
